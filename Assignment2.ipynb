{
 "cells": [
  {
   "cell_type": "code",
   "execution_count": 1,
   "id": "5dc7d3f5",
   "metadata": {},
   "outputs": [],
   "source": [
    "import numpy as np"
   ]
  },
  {
   "cell_type": "code",
   "execution_count": null,
   "id": "6c50bb31",
   "metadata": {},
   "outputs": [],
   "source": [
    "# import pandas as pd"
   ]
  },
  {
   "cell_type": "markdown",
   "id": "0edac056",
   "metadata": {},
   "source": [
    "#READING FILE AND APPLYING PREPROCESSING TECHNIQUE "
   ]
  },
  {
   "cell_type": "code",
   "execution_count": 5,
   "id": "53573c19",
   "metadata": {},
   "outputs": [
    {
     "name": "stdout",
     "output_type": "stream",
     "text": [
      "    ARTICLE_ID                                       SECTION_TEXT\n",
      "0            0  \\n\\n\\n\\n\\n\\n'''Anarchism''' is a political phi...\n",
      "1            0  \\n\\nThe term ''anarchism'' is a compound word ...\n",
      "2            0  \\n\\n===Origins===\\nWoodcut from a Diggers docu...\n",
      "3            0  \\nPortrait of philosopher Pierre-Joseph Proudh...\n",
      "4            0  \\nconsistent with anarchist values is a contro...\n",
      "..         ...                                                ...\n",
      "95           7  \\n\\nThe works of Aristotle that have survived ...\n",
      "96           7  \"ARISTOTLE\" near the ceiling of the Great Hall...\n",
      "97           7  * Aristotelian physics\\n* Aristotelian society...\n",
      "98           7                                                 \\n\n",
      "99           7  The secondary literature on Aristotle is vast....\n",
      "\n",
      "[100 rows x 2 columns]\n"
     ]
    }
   ],
   "source": [
    "import pandas as pd\n",
    "\n",
    "file_path = 'enwiki-20170820.csv'\n",
    "columns_to_read = ['ARTICLE_ID', 'SECTION_TEXT']\n",
    "dataset = pd.read_csv(file_path, usecols=columns_to_read, nrows=100)\n",
    "\n",
    "\n",
    "#print(dataset)\n"
   ]
  },
  {
   "cell_type": "code",
   "execution_count": 8,
   "id": "f99f5a63",
   "metadata": {},
   "outputs": [
    {
     "name": "stdout",
     "output_type": "stream",
     "text": [
      "    ARTICLE_ID                                       SECTION_TEXT\n",
      "0            0  \\n\\n\\n\\n\\n\\n'''anarchism''' is a political phi...\n",
      "1            0  \\n\\nthe term ''anarchism'' is a compound word ...\n",
      "2            0  \\n\\n===origins===\\nwoodcut from a diggers docu...\n",
      "3            0  \\nportrait of philosopher pierre-joseph proudh...\n",
      "4            0  \\nconsistent with anarchist values is a contro...\n",
      "..         ...                                                ...\n",
      "95           7  \\n\\nthe works of aristotle that have survived ...\n",
      "96           7  \"aristotle\" near the ceiling of the great hall...\n",
      "97           7  * aristotelian physics\\n* aristotelian society...\n",
      "98           7                                                 \\n\n",
      "99           7  the secondary literature on aristotle is vast....\n",
      "\n",
      "[100 rows x 2 columns]\n"
     ]
    }
   ],
   "source": [
    "dataset['SECTION_TEXT'] = dataset['SECTION_TEXT'].str.lower()\n",
    "print(dataset)"
   ]
  },
  {
   "cell_type": "code",
   "execution_count": 10,
   "id": "3b06a3a1",
   "metadata": {},
   "outputs": [
    {
     "name": "stdout",
     "output_type": "stream",
     "text": [
      "    ARTICLE_ID                                       SECTION_TEXT\n",
      "0            0  '''anarchism''' political philosophy advocates...\n",
      "1            0  term ''anarchism'' compound word composed word...\n",
      "2            0  ===origins=== woodcut diggers document william...\n",
      "3            0  portrait philosopher pierre-joseph proudhon (1...\n",
      "4            0  consistent anarchist values controversial subj...\n",
      "..         ...                                                ...\n",
      "95           7  works aristotle survived antiquity medieval ma...\n",
      "96           7  \"aristotle\" near ceiling great hall library co...\n",
      "97           7  * aristotelian physics * aristotelian society ...\n",
      "98           7                                                   \n",
      "99           7  secondary literature aristotle vast. following...\n",
      "\n",
      "[100 rows x 2 columns]\n"
     ]
    }
   ],
   "source": [
    "stop_words = [\n",
    "    'i', 'me', 'my', 'myself', 'we', 'our', 'ours', 'ourselves', 'you', 'your', \n",
    "    'yours', 'yourself', 'yourselves', 'he', 'him', 'his', 'himself', 'she', \n",
    "    'her', 'hers', 'herself', 'it', 'its', 'itself', 'they', 'them', 'their', \n",
    "    'theirs', 'themselves', 'what', 'which', 'who', 'whom', 'this', 'that', \n",
    "    'these', 'those', 'am', 'is', 'are', 'was', 'were', 'be', 'been', 'being', \n",
    "    'have', 'has', 'had', 'having', 'do', 'does', 'did', 'doing', 'a', 'an', \n",
    "    'the', 'and', 'but', 'if', 'or', 'because', 'as', 'until', 'while', 'of', \n",
    "    'at', 'by', 'for', 'with', 'about', 'against', 'between', 'into', 'through', \n",
    "    'during', 'before', 'after', 'above', 'below', 'to', 'from', 'up', 'down', \n",
    "    'in', 'out', 'on', 'off', 'over', 'under', 'again', 'further', 'then', 'once', \n",
    "    'here', 'there', 'when', 'where', 'why', 'how', 'all', 'any', 'both', 'each', \n",
    "    'few', 'more', 'most', 'other', 'some', 'such', 'no', 'nor', 'not', 'only', \n",
    "    'own', 'same', 'so', 'than', 'too', 'very', 's', 't', 'can', 'will', 'just', \n",
    "    'don', 'should', 'now'\n",
    "]\n",
    "\n",
    "dataset['SECTION_TEXT'] = dataset['SECTION_TEXT'].apply(lambda x: ' '.join([word for word in x.split() if word not in stop_words]))\n",
    "print(dataset)"
   ]
  },
  {
   "cell_type": "code",
   "execution_count": 16,
   "id": "17f2f737",
   "metadata": {},
   "outputs": [
    {
     "name": "stdout",
     "output_type": "stream",
     "text": [
      "    ARTICLE_ID                                       SECTION_TEXT\n",
      "0            0  '''anarchism''' political philosophy advocates...\n",
      "1            0  term ''anarchism'' compound word composed word...\n",
      "2            0  ===origins=== woodcut diggers document william...\n",
      "3            0  portrait philosopher pierre-joseph proudhon (1...\n",
      "4            0  consistent anarchist values controversial subj...\n",
      "..         ...                                                ...\n",
      "95           7  works aristotle survived antiquity medieval ma...\n",
      "96           7  \"aristotle\" near ceiling great hall library co...\n",
      "97           7  * aristotelian physics * aristotelian society ...\n",
      "98           7                                                   \n",
      "99           7  secondary literature aristotle vast. following...\n",
      "\n",
      "[100 rows x 2 columns]\n"
     ]
    }
   ],
   "source": [
    "#lemmatization of section text column\n",
    "def lemmatize_text(text):\n",
    "    lemmatization_dict={ 'running': 'run',\n",
    "    'runs': 'run',\n",
    "    'ran': 'run',\n",
    "    'running': 'run',\n",
    "    'runner': 'run',\n",
    "    'cats': 'cat',\n",
    "    'catlike': 'cat',\n",
    "    'mice': 'mouse',\n",
    "    'mouses': 'mouse',\n",
    "    'playing': 'play',\n",
    "    'played': 'play',\n",
    "    'plays': 'play',\n",
    "    'playful': 'play',\n",
    "    'boxes': 'box',\n",
    "    'boxer': 'box',\n",
    "    'boxing': 'box',\n",
    "    'feet': 'foot',\n",
    "    'footed': 'foot',\n",
    "    'footing': 'foot',\n",
    "    'went': 'go',\n",
    "    'goes': 'go',\n",
    "    'going': 'go',\n",
    "    'gone': 'go',\n",
    "    'goat': 'go',\n",
    "    'went': 'go',\n",
    "    'wenting': 'go',\n",
    "    }\n",
    "\n",
    "    words = text.split()\n",
    "    lemmatized_words = [lemmatization_dict.get(word, word) for word in words]\n",
    "    lemmatized_text = ' '.join(lemmatized_words)\n",
    "\n",
    "    return lemmatized_text\n",
    "\n",
    "dataset['SECTION_TEXT'] = dataset['SECTION_TEXT'].apply(lemmatize_text)\n",
    "print(dataset)\n"
   ]
  },
  {
   "cell_type": "code",
   "execution_count": 17,
   "id": "52077bf6",
   "metadata": {},
   "outputs": [
    {
     "name": "stdout",
     "output_type": "stream",
     "text": [
      "    ARTICLE_ID                                       SECTION_TEXT\n",
      "0            0  anarchism political philosophy advocates selfg...\n",
      "1            0  term anarchism compound word composed word ana...\n",
      "2            0  ===origins=== woodcut diggers document william...\n",
      "3            0  portrait philosopher pierrejoseph proudhon 180...\n",
      "4            0  consistent anarchist values controversial subj...\n",
      "..         ...                                                ...\n",
      "95           7  works aristotle survived antiquity medieval ma...\n",
      "96           7  aristotle near ceiling great hall library cong...\n",
      "97           7   aristotelian physics  aristotelian society  a...\n",
      "98           7                                                   \n",
      "99           7  secondary literature aristotle vast following ...\n",
      "\n",
      "[100 rows x 2 columns]\n"
     ]
    }
   ],
   "source": [
    "def remove_punctuation(text):\n",
    "    punctuation_chars = '''!()-[]{};:'\"\\,<>./?@#$%^&*_~'''\n",
    "    cleaned_text = ''.join(char for char in text if char not in punctuation_chars)\n",
    "    return cleaned_text\n",
    "\n",
    "dataset['SECTION_TEXT']=dataset['SECTION_TEXT'].apply(remove_punctuation)\n",
    "print(dataset)"
   ]
  },
  {
   "cell_type": "code",
   "execution_count": 20,
   "id": "4f989e68",
   "metadata": {},
   "outputs": [],
   "source": [
    "df_first_500_rows = dataset.head(500)\n",
    "df_first_500_rows.to_csv('first_500_rows.csv', index=False)"
   ]
  },
  {
   "cell_type": "code",
   "execution_count": null,
   "id": "9ac65336",
   "metadata": {},
   "outputs": [],
   "source": []
  }
 ],
 "metadata": {
  "kernelspec": {
   "display_name": "Python 3 (ipykernel)",
   "language": "python",
   "name": "python3"
  },
  "language_info": {
   "codemirror_mode": {
    "name": "ipython",
    "version": 3
   },
   "file_extension": ".py",
   "mimetype": "text/x-python",
   "name": "python",
   "nbconvert_exporter": "python",
   "pygments_lexer": "ipython3",
   "version": "3.11.4"
  }
 },
 "nbformat": 4,
 "nbformat_minor": 5
}
